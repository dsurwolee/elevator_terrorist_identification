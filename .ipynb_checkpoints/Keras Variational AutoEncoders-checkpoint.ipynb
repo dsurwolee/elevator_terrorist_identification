{
 "cells": [
  {
   "cell_type": "code",
   "execution_count": 1,
   "metadata": {},
   "outputs": [
    {
     "name": "stderr",
     "output_type": "stream",
     "text": [
      "Using TensorFlow backend.\n"
     ]
    }
   ],
   "source": [
    "import pandas as pd\n",
    "import numpy as np\n",
    "import pickle\n",
    "import matplotlib.pyplot as plt\n",
    "from scipy import stats\n",
    "import tensorflow as tf\n",
    "import seaborn as sns\n",
    "from pylab import rcParams\n",
    "from sklearn.model_selection import train_test_split\n",
    "from keras.models import Model, load_model\n",
    "from keras.layers import Input, Dense\n",
    "from keras.callbacks import ModelCheckpoint, TensorBoard\n",
    "from keras import regularizers\n",
    "\n",
    "# http://blog.csdn.net/omnispace/article/details/78210190 \n",
    "\n",
    "%matplotlib inline"
   ]
  },
  {
   "cell_type": "code",
   "execution_count": 2,
   "metadata": {
    "collapsed": true
   },
   "outputs": [],
   "source": [
    "sns.set(style='whitegrid', palette='muted', font_scale=1.5)\n",
    "\n",
    "rcParams['figure.figsize'] = 14, 8\n",
    "\n",
    "RANDOM_SEED = 42\n",
    "LABELS = [\"Normal\", \"Fraud\"]"
   ]
  },
  {
   "cell_type": "code",
   "execution_count": 5,
   "metadata": {},
   "outputs": [
    {
     "data": {
      "text/plain": [
       "(284807, 31)"
      ]
     },
     "execution_count": 5,
     "metadata": {},
     "output_type": "execute_result"
    }
   ],
   "source": [
    "df = pd.read_csv('data/creditcard.csv')\n",
    "df.shape"
   ]
  },
  {
   "cell_type": "code",
   "execution_count": 6,
   "metadata": {},
   "outputs": [
    {
     "data": {
      "text/html": [
       "<div>\n",
       "<style>\n",
       "    .dataframe thead tr:only-child th {\n",
       "        text-align: right;\n",
       "    }\n",
       "\n",
       "    .dataframe thead th {\n",
       "        text-align: left;\n",
       "    }\n",
       "\n",
       "    .dataframe tbody tr th {\n",
       "        vertical-align: top;\n",
       "    }\n",
       "</style>\n",
       "<table border=\"1\" class=\"dataframe\">\n",
       "  <thead>\n",
       "    <tr style=\"text-align: right;\">\n",
       "      <th></th>\n",
       "      <th>t</th>\n",
       "      <th>V1</th>\n",
       "      <th>V2</th>\n",
       "      <th>V3</th>\n",
       "      <th>V4</th>\n",
       "      <th>V5</th>\n",
       "      <th>V6</th>\n",
       "      <th>V7</th>\n",
       "      <th>V8</th>\n",
       "      <th>V9</th>\n",
       "      <th>...</th>\n",
       "      <th>V21</th>\n",
       "      <th>V22</th>\n",
       "      <th>V23</th>\n",
       "      <th>V24</th>\n",
       "      <th>V25</th>\n",
       "      <th>V26</th>\n",
       "      <th>V27</th>\n",
       "      <th>V28</th>\n",
       "      <th>Amount</th>\n",
       "      <th>Class</th>\n",
       "    </tr>\n",
       "  </thead>\n",
       "  <tbody>\n",
       "    <tr>\n",
       "      <th>0</th>\n",
       "      <td>0.0</td>\n",
       "      <td>-1.359807</td>\n",
       "      <td>-0.072781</td>\n",
       "      <td>2.536347</td>\n",
       "      <td>1.378155</td>\n",
       "      <td>-0.338321</td>\n",
       "      <td>0.462388</td>\n",
       "      <td>0.239599</td>\n",
       "      <td>0.098698</td>\n",
       "      <td>0.363787</td>\n",
       "      <td>...</td>\n",
       "      <td>-0.018307</td>\n",
       "      <td>0.277838</td>\n",
       "      <td>-0.110474</td>\n",
       "      <td>0.066928</td>\n",
       "      <td>0.128539</td>\n",
       "      <td>-0.189115</td>\n",
       "      <td>0.133558</td>\n",
       "      <td>-0.021053</td>\n",
       "      <td>149.62</td>\n",
       "      <td>0</td>\n",
       "    </tr>\n",
       "    <tr>\n",
       "      <th>1</th>\n",
       "      <td>0.0</td>\n",
       "      <td>1.191857</td>\n",
       "      <td>0.266151</td>\n",
       "      <td>0.166480</td>\n",
       "      <td>0.448154</td>\n",
       "      <td>0.060018</td>\n",
       "      <td>-0.082361</td>\n",
       "      <td>-0.078803</td>\n",
       "      <td>0.085102</td>\n",
       "      <td>-0.255425</td>\n",
       "      <td>...</td>\n",
       "      <td>-0.225775</td>\n",
       "      <td>-0.638672</td>\n",
       "      <td>0.101288</td>\n",
       "      <td>-0.339846</td>\n",
       "      <td>0.167170</td>\n",
       "      <td>0.125895</td>\n",
       "      <td>-0.008983</td>\n",
       "      <td>0.014724</td>\n",
       "      <td>2.69</td>\n",
       "      <td>0</td>\n",
       "    </tr>\n",
       "    <tr>\n",
       "      <th>2</th>\n",
       "      <td>1.0</td>\n",
       "      <td>-1.358354</td>\n",
       "      <td>-1.340163</td>\n",
       "      <td>1.773209</td>\n",
       "      <td>0.379780</td>\n",
       "      <td>-0.503198</td>\n",
       "      <td>1.800499</td>\n",
       "      <td>0.791461</td>\n",
       "      <td>0.247676</td>\n",
       "      <td>-1.514654</td>\n",
       "      <td>...</td>\n",
       "      <td>0.247998</td>\n",
       "      <td>0.771679</td>\n",
       "      <td>0.909412</td>\n",
       "      <td>-0.689281</td>\n",
       "      <td>-0.327642</td>\n",
       "      <td>-0.139097</td>\n",
       "      <td>-0.055353</td>\n",
       "      <td>-0.059752</td>\n",
       "      <td>378.66</td>\n",
       "      <td>0</td>\n",
       "    </tr>\n",
       "    <tr>\n",
       "      <th>3</th>\n",
       "      <td>1.0</td>\n",
       "      <td>-0.966272</td>\n",
       "      <td>-0.185226</td>\n",
       "      <td>1.792993</td>\n",
       "      <td>-0.863291</td>\n",
       "      <td>-0.010309</td>\n",
       "      <td>1.247203</td>\n",
       "      <td>0.237609</td>\n",
       "      <td>0.377436</td>\n",
       "      <td>-1.387024</td>\n",
       "      <td>...</td>\n",
       "      <td>-0.108300</td>\n",
       "      <td>0.005274</td>\n",
       "      <td>-0.190321</td>\n",
       "      <td>-1.175575</td>\n",
       "      <td>0.647376</td>\n",
       "      <td>-0.221929</td>\n",
       "      <td>0.062723</td>\n",
       "      <td>0.061458</td>\n",
       "      <td>123.50</td>\n",
       "      <td>0</td>\n",
       "    </tr>\n",
       "    <tr>\n",
       "      <th>4</th>\n",
       "      <td>2.0</td>\n",
       "      <td>-1.158233</td>\n",
       "      <td>0.877737</td>\n",
       "      <td>1.548718</td>\n",
       "      <td>0.403034</td>\n",
       "      <td>-0.407193</td>\n",
       "      <td>0.095921</td>\n",
       "      <td>0.592941</td>\n",
       "      <td>-0.270533</td>\n",
       "      <td>0.817739</td>\n",
       "      <td>...</td>\n",
       "      <td>-0.009431</td>\n",
       "      <td>0.798278</td>\n",
       "      <td>-0.137458</td>\n",
       "      <td>0.141267</td>\n",
       "      <td>-0.206010</td>\n",
       "      <td>0.502292</td>\n",
       "      <td>0.219422</td>\n",
       "      <td>0.215153</td>\n",
       "      <td>69.99</td>\n",
       "      <td>0</td>\n",
       "    </tr>\n",
       "  </tbody>\n",
       "</table>\n",
       "<p>5 rows × 31 columns</p>\n",
       "</div>"
      ],
      "text/plain": [
       "     t        V1        V2        V3        V4        V5        V6        V7  \\\n",
       "0  0.0 -1.359807 -0.072781  2.536347  1.378155 -0.338321  0.462388  0.239599   \n",
       "1  0.0  1.191857  0.266151  0.166480  0.448154  0.060018 -0.082361 -0.078803   \n",
       "2  1.0 -1.358354 -1.340163  1.773209  0.379780 -0.503198  1.800499  0.791461   \n",
       "3  1.0 -0.966272 -0.185226  1.792993 -0.863291 -0.010309  1.247203  0.237609   \n",
       "4  2.0 -1.158233  0.877737  1.548718  0.403034 -0.407193  0.095921  0.592941   \n",
       "\n",
       "         V8        V9  ...         V21       V22       V23       V24  \\\n",
       "0  0.098698  0.363787  ...   -0.018307  0.277838 -0.110474  0.066928   \n",
       "1  0.085102 -0.255425  ...   -0.225775 -0.638672  0.101288 -0.339846   \n",
       "2  0.247676 -1.514654  ...    0.247998  0.771679  0.909412 -0.689281   \n",
       "3  0.377436 -1.387024  ...   -0.108300  0.005274 -0.190321 -1.175575   \n",
       "4 -0.270533  0.817739  ...   -0.009431  0.798278 -0.137458  0.141267   \n",
       "\n",
       "        V25       V26       V27       V28  Amount  Class  \n",
       "0  0.128539 -0.189115  0.133558 -0.021053  149.62      0  \n",
       "1  0.167170  0.125895 -0.008983  0.014724    2.69      0  \n",
       "2 -0.327642 -0.139097 -0.055353 -0.059752  378.66      0  \n",
       "3  0.647376 -0.221929  0.062723  0.061458  123.50      0  \n",
       "4 -0.206010  0.502292  0.219422  0.215153   69.99      0  \n",
       "\n",
       "[5 rows x 31 columns]"
      ]
     },
     "execution_count": 6,
     "metadata": {},
     "output_type": "execute_result"
    }
   ],
   "source": [
    "df.head()"
   ]
  },
  {
   "cell_type": "code",
   "execution_count": 10,
   "metadata": {},
   "outputs": [
    {
     "data": {
      "text/plain": [
       "0    284315\n",
       "1       492\n",
       "Name: Class, dtype: int64"
      ]
     },
     "execution_count": 10,
     "metadata": {},
     "output_type": "execute_result"
    }
   ],
   "source": [
    "df.Class.value_counts()"
   ]
  },
  {
   "cell_type": "code",
   "execution_count": 11,
   "metadata": {
    "collapsed": true
   },
   "outputs": [],
   "source": [
    "frauds = df[df.Class == 1]\n",
    "normal = df[df.Class == 0]"
   ]
  },
  {
   "cell_type": "code",
   "execution_count": 15,
   "metadata": {},
   "outputs": [
    {
     "data": {
      "image/png": "[encoded data removed]",
      "text/plain": [
       "<matplotlib.figure.Figure at 0x1a1521d470>"
      ]
     },
     "metadata": {},
     "output_type": "display_data"
    }
   ],
   "source": [
    "f, (ax1, ax2) = plt.subplots(2, 1, sharex=True)\n",
    "f.suptitle('Amount per transaction by class')\n",
    "\n",
    "bins= 50\n",
    "\n",
    "ax1.hist(frauds.Amount, bins=bins)\n",
    "ax1.set_title('Fraud')\n",
    "\n",
    "ax2.hist(normal.Amount, bins=bins)\n",
    "ax2.set_title('Normal')\n",
    "\n",
    "plt.xlabel('Amount $')\n",
    "plt.ylabel('# of Transactions')\n",
    "plt.xlim((0,20000))\n",
    "plt.yscale('log')\n",
    "plt.show()"
   ]
  },
  {
   "cell_type": "code",
   "execution_count": 24,
   "metadata": {},
   "outputs": [
    {
     "data": {
      "image/png": "[encoded data removed]",
      "text/plain": [
       "<matplotlib.figure.Figure at 0x1a1764d898>"
      ]
     },
     "metadata": {},
     "output_type": "display_data"
    }
   ],
   "source": [
    "f, (ax1, ax2) = plt.subplots(2, 1, sharex=True)\n",
    "f.suptitle('Time of Transactions vs Amount by class')\n",
    "\n",
    "ax1.scatter(frauds.t, frauds.Amount)\n",
    "ax1.set_title('Frauds')\n",
    "\n",
    "ax2.scatter(normal.t, normal.Amount)\n",
    "ax2.set_title('Normal')\n",
    "\n",
    "plt.xlabel('Time in seconds')\n",
    "plt.ylabel('Amount')\n",
    "plt.show()"
   ]
  },
  {
   "cell_type": "code",
   "execution_count": 26,
   "metadata": {},
   "outputs": [
    {
     "data": {
      "text/plain": [
       "(227451, 29)"
      ]
     },
     "execution_count": 26,
     "metadata": {},
     "output_type": "execute_result"
    }
   ],
   "source": [
    "# Prep the data\n",
    "from sklearn.preprocessing import StandardScaler\n",
    "\n",
    "data = df.drop(['t'], axis=1)\n",
    "\n",
    "data['Amount'] = StandardScaler().fit_transform(data['Amount'].values.reshape(-1,1))\n",
    "\n",
    "X_train, X_test = train_test_split(data, test_size=0.2, random_state=RANDOM_SEED)\n",
    "X_train = X_train[X_train.Class == 0]\n",
    "X_train = X_train.drop(['Class'], axis=1)\n",
    "\n",
    "y_test = X_test['Class']\n",
    "X_test = X_test.drop(['Class'], axis=1)\n",
    "\n",
    "X_train = X_train.values\n",
    "X_test = X_test.values\n",
    "X_train.shape"
   ]
  },
  {
   "cell_type": "code",
   "execution_count": 33,
   "metadata": {},
   "outputs": [],
   "source": [
    "input_dim = X_train.shape[1]\n",
    "encoding_dim = 14\n",
    "input_layer = Input(shape=(input_dim, ))\n",
    "\n",
    "encoder = Dense(encoding_dim, activation='tanh', activity_regularizer=regularizers.l1(10e-5))(input_layer)\n",
    "encoder = Dense(int(encoding_dim / 2), activation='relu')(encoder)\n",
    "decoder = Dense(int(encoding_dim / 2), activation='tanh')(encoder)\n",
    "decoder = Dense(input_dim, activation='relu')(decoder)\n",
    "\n",
    "autoencoder = Model(inputs=input_layer, outputs=decoder)"
   ]
  },
  {
   "cell_type": "code",
   "execution_count": null,
   "metadata": {},
   "outputs": [
    {
     "name": "stdout",
     "output_type": "stream",
     "text": [
      "Train on 227451 samples, validate on 56962 samples\n",
      "Epoch 1/100\n",
      "227451/227451 [==============================] - 12s 54us/step - loss: 0.8132 - acc: 0.5841 - val_loss: 0.7846 - val_acc: 0.6613\n",
      "Epoch 2/100\n",
      "227451/227451 [==============================] - 12s 54us/step - loss: 0.7476 - acc: 0.6597 - val_loss: 0.7740 - val_acc: 0.6647\n",
      "Epoch 3/100\n",
      "227451/227451 [==============================] - 12s 53us/step - loss: 0.7399 - acc: 0.6649 - val_loss: 0.7687 - val_acc: 0.6749\n",
      "Epoch 4/100\n",
      "227451/227451 [==============================] - 12s 54us/step - loss: 0.7363 - acc: 0.6679 - val_loss: 0.7673 - val_acc: 0.6772\n",
      "Epoch 5/100\n",
      "227451/227451 [==============================] - 13s 58us/step - loss: 0.7344 - acc: 0.6698 - val_loss: 0.7665 - val_acc: 0.6766\n",
      "Epoch 6/100\n",
      "227451/227451 [==============================] - 16s 70us/step - loss: 0.7324 - acc: 0.6740 - val_loss: 0.7636 - val_acc: 0.6808\n",
      "Epoch 7/100\n",
      "227451/227451 [==============================] - 13s 58us/step - loss: 0.7299 - acc: 0.6794 - val_loss: 0.7658 - val_acc: 0.6837\n",
      "Epoch 8/100\n",
      "227451/227451 [==============================] - 13s 58us/step - loss: 0.7284 - acc: 0.6814 - val_loss: 0.7634 - val_acc: 0.6835\n",
      "Epoch 9/100\n",
      "227451/227451 [==============================] - 14s 63us/step - loss: 0.7275 - acc: 0.6819 - val_loss: 0.7612 - val_acc: 0.6782\n",
      "Epoch 10/100\n",
      "227451/227451 [==============================] - 15s 66us/step - loss: 0.7267 - acc: 0.6833 - val_loss: 0.7629 - val_acc: 0.6749\n",
      "Epoch 11/100\n",
      "227451/227451 [==============================] - 14s 61us/step - loss: 0.7263 - acc: 0.6829 - val_loss: 0.7608 - val_acc: 0.6818\n",
      "Epoch 12/100\n",
      "227451/227451 [==============================] - 13s 59us/step - loss: 0.7260 - acc: 0.6840 - val_loss: 0.7615 - val_acc: 0.6845\n",
      "Epoch 13/100\n",
      "227451/227451 [==============================] - 14s 60us/step - loss: 0.7255 - acc: 0.6854 - val_loss: 0.7596 - val_acc: 0.6952\n",
      "Epoch 14/100\n",
      "227451/227451 [==============================] - 19s 84us/step - loss: 0.7252 - acc: 0.6873 - val_loss: 0.7582 - val_acc: 0.6911\n",
      "Epoch 15/100\n",
      "227451/227451 [==============================] - 16s 72us/step - loss: 0.7245 - acc: 0.6898 - val_loss: 0.7582 - val_acc: 0.6898\n",
      "Epoch 16/100\n",
      "227451/227451 [==============================] - 15s 64us/step - loss: 0.7240 - acc: 0.6923 - val_loss: 0.7566 - val_acc: 0.6951\n",
      "Epoch 17/100\n",
      "227451/227451 [==============================] - 15s 65us/step - loss: 0.7232 - acc: 0.6926 - val_loss: 0.7557 - val_acc: 0.7050\n",
      "Epoch 18/100\n",
      "227451/227451 [==============================] - 16s 72us/step - loss: 0.7221 - acc: 0.6911 - val_loss: 0.7544 - val_acc: 0.6941\n",
      "Epoch 19/100\n",
      "227451/227451 [==============================] - 13s 58us/step - loss: 0.7222 - acc: 0.6908 - val_loss: 0.7554 - val_acc: 0.7000\n",
      "Epoch 20/100\n",
      "227451/227451 [==============================] - 13s 59us/step - loss: 0.7216 - acc: 0.6915 - val_loss: 0.7777 - val_acc: 0.6681\n",
      "Epoch 21/100\n",
      "227451/227451 [==============================] - 14s 60us/step - loss: 0.7219 - acc: 0.6899 - val_loss: 0.7556 - val_acc: 0.6896\n",
      "Epoch 22/100\n",
      "227451/227451 [==============================] - 14s 60us/step - loss: 0.7217 - acc: 0.6907 - val_loss: 0.7538 - val_acc: 0.6994\n",
      "Epoch 23/100\n",
      "227451/227451 [==============================] - 13s 59us/step - loss: 0.7214 - acc: 0.6916 - val_loss: 0.7530 - val_acc: 0.6960\n",
      "Epoch 24/100\n",
      "227451/227451 [==============================] - 13s 57us/step - loss: 0.7211 - acc: 0.6922 - val_loss: 0.7524 - val_acc: 0.6973\n",
      "Epoch 25/100\n",
      "227451/227451 [==============================] - 15s 66us/step - loss: 0.7209 - acc: 0.6917 - val_loss: 0.7597 - val_acc: 0.6990\n",
      "Epoch 26/100\n",
      "227451/227451 [==============================] - 14s 60us/step - loss: 0.7207 - acc: 0.6913 - val_loss: 0.7536 - val_acc: 0.6975\n",
      "Epoch 27/100\n",
      "227451/227451 [==============================] - 15s 64us/step - loss: 0.7205 - acc: 0.6919 - val_loss: 0.7533 - val_acc: 0.6907\n",
      "Epoch 28/100\n",
      "227451/227451 [==============================] - 12s 55us/step - loss: 0.7207 - acc: 0.6910 - val_loss: 0.7542 - val_acc: 0.6943\n",
      "Epoch 29/100\n",
      "227451/227451 [==============================] - 14s 64us/step - loss: 0.7204 - acc: 0.6916 - val_loss: 0.7539 - val_acc: 0.6928\n",
      "Epoch 30/100\n",
      "227451/227451 [==============================] - 14s 63us/step - loss: 0.7203 - acc: 0.6925 - val_loss: 0.7530 - val_acc: 0.7007\n",
      "Epoch 31/100\n",
      "227451/227451 [==============================] - 16s 72us/step - loss: 0.7208 - acc: 0.6922 - val_loss: 0.7532 - val_acc: 0.7007\n",
      "Epoch 32/100\n",
      "227451/227451 [==============================] - 15s 68us/step - loss: 0.7202 - acc: 0.6927 - val_loss: 0.7556 - val_acc: 0.6896\n",
      "Epoch 33/100\n",
      "227451/227451 [==============================] - 13s 58us/step - loss: 0.7202 - acc: 0.6927 - val_loss: 0.7531 - val_acc: 0.6980\n",
      "Epoch 34/100\n",
      "227451/227451 [==============================] - 17s 77us/step - loss: 0.7199 - acc: 0.6944 - val_loss: 0.7524 - val_acc: 0.6967\n",
      "Epoch 35/100\n",
      "227451/227451 [==============================] - 13s 57us/step - loss: 0.7201 - acc: 0.6940 - val_loss: 0.7520 - val_acc: 0.6997\n",
      "Epoch 36/100\n",
      "227451/227451 [==============================] - 13s 58us/step - loss: 0.7198 - acc: 0.6949 - val_loss: 0.7526 - val_acc: 0.6973\n",
      "Epoch 37/100\n",
      "227451/227451 [==============================] - 13s 58us/step - loss: 0.7194 - acc: 0.6950 - val_loss: 0.7541 - val_acc: 0.6924\n",
      "Epoch 38/100\n",
      "227451/227451 [==============================] - 13s 59us/step - loss: 0.7195 - acc: 0.6948 - val_loss: 0.7602 - val_acc: 0.6878\n",
      "Epoch 39/100\n",
      "227451/227451 [==============================] - 13s 58us/step - loss: 0.7199 - acc: 0.6949 - val_loss: 0.7550 - val_acc: 0.6948\n",
      "Epoch 40/100\n",
      "227451/227451 [==============================] - 13s 57us/step - loss: 0.7190 - acc: 0.6946 - val_loss: 0.7524 - val_acc: 0.7000\n",
      "Epoch 41/100\n",
      "227451/227451 [==============================] - 13s 59us/step - loss: 0.7193 - acc: 0.6949 - val_loss: 0.7637 - val_acc: 0.6843\n",
      "Epoch 42/100\n",
      "227451/227451 [==============================] - 13s 59us/step - loss: 0.7195 - acc: 0.6949 - val_loss: 0.7528 - val_acc: 0.6996\n",
      "Epoch 43/100\n",
      "227451/227451 [==============================] - 14s 62us/step - loss: 0.7190 - acc: 0.6946 - val_loss: 0.7547 - val_acc: 0.6948\n",
      "Epoch 44/100\n",
      "227451/227451 [==============================] - 14s 60us/step - loss: 0.7194 - acc: 0.6939 - val_loss: 0.7545 - val_acc: 0.6947\n",
      "Epoch 45/100\n",
      "227451/227451 [==============================] - 13s 57us/step - loss: 0.7191 - acc: 0.6944 - val_loss: 0.7538 - val_acc: 0.6948\n",
      "Epoch 46/100\n",
      "227451/227451 [==============================] - 14s 62us/step - loss: 0.7191 - acc: 0.6953 - val_loss: 0.7591 - val_acc: 0.6836\n",
      "Epoch 47/100\n",
      "227451/227451 [==============================] - 14s 60us/step - loss: 0.7192 - acc: 0.6950 - val_loss: 0.7521 - val_acc: 0.7005\n",
      "Epoch 48/100\n",
      "227451/227451 [==============================] - 13s 59us/step - loss: 0.7188 - acc: 0.6941 - val_loss: 0.7520 - val_acc: 0.6992\n",
      "Epoch 49/100\n",
      "227451/227451 [==============================] - 16s 70us/step - loss: 0.7188 - acc: 0.6946 - val_loss: 0.7538 - val_acc: 0.6937\n",
      "Epoch 50/100\n",
      "227451/227451 [==============================] - 16s 69us/step - loss: 0.7190 - acc: 0.6948 - val_loss: 0.7549 - val_acc: 0.6963\n",
      "Epoch 51/100\n",
      "227451/227451 [==============================] - 15s 67us/step - loss: 0.7187 - acc: 0.6953 - val_loss: 0.7524 - val_acc: 0.6959\n",
      "Epoch 52/100\n",
      "227451/227451 [==============================] - 15s 67us/step - loss: 0.7189 - acc: 0.6946 - val_loss: 0.7525 - val_acc: 0.6934\n",
      "Epoch 53/100\n",
      "227451/227451 [==============================] - 14s 61us/step - loss: 0.7189 - acc: 0.6953 - val_loss: 0.7644 - val_acc: 0.6755\n",
      "Epoch 54/100\n",
      "227451/227451 [==============================] - 12s 54us/step - loss: 0.7184 - acc: 0.6952 - val_loss: 0.7510 - val_acc: 0.7025\n",
      "Epoch 55/100\n",
      "227451/227451 [==============================] - 13s 57us/step - loss: 0.7189 - acc: 0.6965 - val_loss: 0.7539 - val_acc: 0.6963\n",
      "Epoch 56/100\n",
      "227451/227451 [==============================] - 14s 59us/step - loss: 0.7189 - acc: 0.6955 - val_loss: 0.7522 - val_acc: 0.7007\n",
      "Epoch 57/100\n",
      "227451/227451 [==============================] - 19s 83us/step - loss: 0.7187 - acc: 0.6953 - val_loss: 0.7533 - val_acc: 0.6946\n",
      "Epoch 58/100\n"
     ]
    },
    {
     "name": "stdout",
     "output_type": "stream",
     "text": [
      "227451/227451 [==============================] - 16s 72us/step - loss: 0.7187 - acc: 0.6953 - val_loss: 0.7536 - val_acc: 0.7012\n",
      "Epoch 59/100\n",
      "227451/227451 [==============================] - 12s 54us/step - loss: 0.7185 - acc: 0.6960 - val_loss: 0.7529 - val_acc: 0.6939\n",
      "Epoch 60/100\n",
      "227451/227451 [==============================] - 13s 56us/step - loss: 0.7187 - acc: 0.6951 - val_loss: 0.7542 - val_acc: 0.6939\n",
      "Epoch 61/100\n",
      "227451/227451 [==============================] - 13s 55us/step - loss: 0.7182 - acc: 0.6957 - val_loss: 0.7576 - val_acc: 0.6905\n",
      "Epoch 62/100\n",
      "227451/227451 [==============================] - 12s 54us/step - loss: 0.7185 - acc: 0.6957 - val_loss: 0.7534 - val_acc: 0.6976\n",
      "Epoch 63/100\n",
      "227451/227451 [==============================] - 12s 54us/step - loss: 0.7186 - acc: 0.6953 - val_loss: 0.7544 - val_acc: 0.7015\n",
      "Epoch 64/100\n",
      "227451/227451 [==============================] - 12s 54us/step - loss: 0.7183 - acc: 0.6954 - val_loss: 0.7524 - val_acc: 0.6999\n",
      "Epoch 65/100\n",
      "227451/227451 [==============================] - 12s 55us/step - loss: 0.7185 - acc: 0.6957 - val_loss: 0.7547 - val_acc: 0.6933\n",
      "Epoch 66/100\n",
      "227451/227451 [==============================] - 12s 55us/step - loss: 0.7181 - acc: 0.6955 - val_loss: 0.7614 - val_acc: 0.6995\n",
      "Epoch 67/100\n",
      "227451/227451 [==============================] - 12s 54us/step - loss: 0.7184 - acc: 0.6951 - val_loss: 0.7529 - val_acc: 0.6949\n",
      "Epoch 68/100\n",
      "227451/227451 [==============================] - 12s 54us/step - loss: 0.7181 - acc: 0.6955 - val_loss: 0.7531 - val_acc: 0.6957\n",
      "Epoch 69/100\n",
      "227451/227451 [==============================] - 12s 55us/step - loss: 0.7182 - acc: 0.6952 - val_loss: 0.7552 - val_acc: 0.6979\n",
      "Epoch 70/100\n",
      "227451/227451 [==============================] - 12s 55us/step - loss: 0.7185 - acc: 0.6959 - val_loss: 0.7511 - val_acc: 0.7034\n",
      "Epoch 71/100\n",
      "227451/227451 [==============================] - 12s 55us/step - loss: 0.7181 - acc: 0.6957 - val_loss: 0.7524 - val_acc: 0.7025\n",
      "Epoch 72/100\n",
      "227451/227451 [==============================] - 12s 54us/step - loss: 0.7184 - acc: 0.6963 - val_loss: 0.7538 - val_acc: 0.7039\n",
      "Epoch 73/100\n",
      "227451/227451 [==============================] - 12s 54us/step - loss: 0.7182 - acc: 0.6952 - val_loss: 0.7518 - val_acc: 0.6954\n",
      "Epoch 74/100\n",
      "227451/227451 [==============================] - 12s 54us/step - loss: 0.7183 - acc: 0.6959 - val_loss: 0.7519 - val_acc: 0.7044\n",
      "Epoch 75/100\n",
      "227451/227451 [==============================] - 12s 55us/step - loss: 0.7181 - acc: 0.6956 - val_loss: 0.7603 - val_acc: 0.6852\n",
      "Epoch 76/100\n",
      "227451/227451 [==============================] - 12s 54us/step - loss: 0.7181 - acc: 0.6957 - val_loss: 0.7534 - val_acc: 0.7018\n",
      "Epoch 77/100\n",
      "227451/227451 [==============================] - 12s 54us/step - loss: 0.7181 - acc: 0.6954 - val_loss: 0.7648 - val_acc: 0.6804\n",
      "Epoch 78/100\n",
      "227451/227451 [==============================] - 13s 56us/step - loss: 0.7185 - acc: 0.6955 - val_loss: 0.7505 - val_acc: 0.7042\n",
      "Epoch 79/100\n",
      "227451/227451 [==============================] - 13s 56us/step - loss: 0.7182 - acc: 0.6959 - val_loss: 0.7524 - val_acc: 0.6978\n",
      "Epoch 80/100\n",
      "227451/227451 [==============================] - 13s 58us/step - loss: 0.7188 - acc: 0.6964 - val_loss: 0.7517 - val_acc: 0.6989\n",
      "Epoch 81/100\n",
      "227451/227451 [==============================] - 12s 54us/step - loss: 0.7183 - acc: 0.6950 - val_loss: 0.7509 - val_acc: 0.7015\n",
      "Epoch 82/100\n",
      "227451/227451 [==============================] - 12s 54us/step - loss: 0.7185 - acc: 0.6949 - val_loss: 0.7528 - val_acc: 0.7049\n",
      "Epoch 83/100\n",
      "227451/227451 [==============================] - 13s 56us/step - loss: 0.7186 - acc: 0.6960 - val_loss: 0.7587 - val_acc: 0.6867\n",
      "Epoch 84/100\n",
      "227451/227451 [==============================] - 13s 56us/step - loss: 0.7182 - acc: 0.6957 - val_loss: 0.7521 - val_acc: 0.6970\n",
      "Epoch 85/100\n",
      "227451/227451 [==============================] - 13s 56us/step - loss: 0.7186 - acc: 0.6962 - val_loss: 0.7559 - val_acc: 0.6919\n",
      "Epoch 86/100\n",
      "227451/227451 [==============================] - 13s 55us/step - loss: 0.7183 - acc: 0.6960 - val_loss: 0.7515 - val_acc: 0.7079\n",
      "Epoch 87/100\n",
      "227451/227451 [==============================] - 13s 58us/step - loss: 0.7178 - acc: 0.6953 - val_loss: 0.7525 - val_acc: 0.7018\n",
      "Epoch 88/100\n",
      "227451/227451 [==============================] - 13s 56us/step - loss: 0.7184 - acc: 0.6966 - val_loss: 0.7510 - val_acc: 0.7019\n",
      "Epoch 89/100\n",
      "227451/227451 [==============================] - 13s 57us/step - loss: 0.7181 - acc: 0.6959 - val_loss: 0.7616 - val_acc: 0.6931\n",
      "Epoch 90/100\n",
      "227451/227451 [==============================] - 13s 57us/step - loss: 0.7183 - acc: 0.6967 - val_loss: 0.7629 - val_acc: 0.6870\n",
      "Epoch 91/100\n",
      "227451/227451 [==============================] - 13s 57us/step - loss: 0.7180 - acc: 0.6955 - val_loss: 0.7510 - val_acc: 0.7046\n",
      "Epoch 92/100\n",
      "227451/227451 [==============================] - 13s 56us/step - loss: 0.7183 - acc: 0.6953 - val_loss: 0.7524 - val_acc: 0.6995\n",
      "Epoch 93/100\n",
      "227451/227451 [==============================] - 13s 56us/step - loss: 0.7178 - acc: 0.6963 - val_loss: 0.7589 - val_acc: 0.7011\n",
      "Epoch 94/100\n",
      "227451/227451 [==============================] - 13s 56us/step - loss: 0.7180 - acc: 0.6961 - val_loss: 0.7524 - val_acc: 0.7023\n",
      "Epoch 95/100\n",
      "227451/227451 [==============================] - 13s 56us/step - loss: 0.7181 - acc: 0.6965 - val_loss: 0.7504 - val_acc: 0.7025\n",
      "Epoch 96/100\n",
      "227451/227451 [==============================] - 14s 60us/step - loss: 0.7181 - acc: 0.6956 - val_loss: 0.7505 - val_acc: 0.7066\n",
      "Epoch 97/100\n",
      "213664/227451 [===========================>..] - ETA: 0s - loss: 0.7204 - acc: 0.6955"
     ]
    }
   ],
   "source": [
    "nb_epoch = 100\n",
    "batch_size = 32\n",
    "\n",
    "autoencoder.compile(optimizer='adam', loss='mean_squared_error', metrics=['accuracy'])\n",
    "checkpointer = ModelCheckpoint(filepath='model.h5', verbose=0, save_best_only=True)\n",
    "tensorboard = TensorBoard(log_dir='./logs', histogram_freq=0, write_graph=True, write_images=True)\n",
    "history = (autoencoder.fit(X_train, X_train, \n",
    "                            epochs=nb_epoch,\n",
    "                            batch_size=batch_size, \n",
    "                            shuffle=True,\n",
    "                            validation_data=(X_test, X_test),\n",
    "                            verbose=1,\n",
    "                            callbacks=[checkpointer, tensorboard]).history\n",
    "          )\n",
    "\n",
    "autoencoder = load_model('model.h5')"
   ]
  },
  {
   "cell_type": "code",
   "execution_count": null,
   "metadata": {
    "collapsed": true
   },
   "outputs": [],
   "source": [
    "plt.plot(history['loss'])\n",
    "plt.plot(history['val_loss'])\n",
    "plt.title('model loss')\n",
    "plt.ylabel('loss')\n",
    "plt.legend(['train','test'], loc='upper right')"
   ]
  },
  {
   "cell_type": "code",
   "execution_count": null,
   "metadata": {
    "collapsed": true
   },
   "outputs": [],
   "source": [
    "predictions = autoencoder.predict(X_test)\n",
    "mse = np.mean(np.power(X_test - predictions, 2), axis=1)\n",
    "error_df = pd.DataFrame({'reconstruction_error': mse, 'true_class': y_test})\n",
    "error_df.head()"
   ]
  },
  {
   "cell_type": "code",
   "execution_count": null,
   "metadata": {
    "collapsed": true
   },
   "outputs": [],
   "source": [
    "from sklearn.metrics import (confusion_matrix, precision_recall_curve, auc,\n",
    "                             roc_curve, recall_score, classification_report, f1_score,\n",
    "                             precision_recall_fscore_support)"
   ]
  },
  {
   "cell_type": "code",
   "execution_count": null,
   "metadata": {
    "collapsed": true
   },
   "outputs": [],
   "source": [
    "fpr, tpr, thresholds = roc_curve(error_df.true_class, error_df.reconstruction_error)\n",
    "roc_auc = auc(fpr, tpr)\n",
    "\n",
    "plt.title('Receiver Operating Characteristic')\n",
    "plt.plot(fpr, tpr, label='AUC = %0.4f'% roc_auc)\n",
    "plt.legend(loc='lower right')\n",
    "plt.plot([0,1],[0,1],'r--')\n",
    "plt.xlim([-0.001, 1])\n",
    "plt.ylim([0, 1.001])\n",
    "plt.ylabel('True Positive Rate')\n",
    "plt.xlabel('False Positive Rate')\n",
    "plt.show();"
   ]
  },
  {
   "cell_type": "code",
   "execution_count": null,
   "metadata": {
    "collapsed": true
   },
   "outputs": [],
   "source": [
    "precision, recall, th = precision_recall_curve(error_df.true_class, error_df.reconstruction_error)\n",
    "plt.plot(recall, precision, 'b', label='Precision-Recall curve')\n",
    "plt.title('Recall vs Precision')\n",
    "plt.xlabel('Recall')\n",
    "plt.ylabel('Precision')\n",
    "plt.show()"
   ]
  },
  {
   "cell_type": "code",
   "execution_count": null,
   "metadata": {
    "collapsed": true
   },
   "outputs": [],
   "source": [
    "plt.plot(th, precision[1:], 'b', label='Threshold-Precision curve')\n",
    "plt.title('Precision for different threshold values')\n",
    "plt.xlabel('Threshold')\n",
    "plt.ylabel('Precision')\n",
    "plt.show()"
   ]
  },
  {
   "cell_type": "code",
   "execution_count": null,
   "metadata": {
    "collapsed": true
   },
   "outputs": [],
   "source": [
    "plt.plot(th, recall[1:], 'b', label='Threshold-Recall curve')\n",
    "plt.title('Recall for different threshold values')\n",
    "plt.xlabel('Reconstruction error')\n",
    "plt.ylabel('Recall')\n",
    "plt.show()"
   ]
  },
  {
   "cell_type": "code",
   "execution_count": null,
   "metadata": {
    "collapsed": true
   },
   "outputs": [],
   "source": [
    "threshold = 2.9\n",
    "\n",
    "groups = error_df.groupby('true_class')\n",
    "fig, ax = plt.subplots()\n",
    "\n",
    "for name, group in groups:\n",
    "    ax.plot(group.index, group.reconstruction_error, marker='o', ms=3.5, linestyle='',\n",
    "            label= \"Fraud\" if name == 1 else \"Normal\")\n",
    "ax.hlines(threshold, ax.get_xlim()[0], ax.get_xlim()[1], colors=\"r\", zorder=100, label='Threshold')\n",
    "ax.legend()\n",
    "plt.title(\"Reconstruction error for different classes\")\n",
    "plt.ylabel(\"Reconstruction error\")\n",
    "plt.xlabel(\"Data point index\")\n",
    "plt.show();"
   ]
  },
  {
   "cell_type": "code",
   "execution_count": null,
   "metadata": {
    "collapsed": true
   },
   "outputs": [],
   "source": []
  },
  {
   "cell_type": "code",
   "execution_count": null,
   "metadata": {
    "collapsed": true
   },
   "outputs": [],
   "source": []
  },
  {
   "cell_type": "code",
   "execution_count": null,
   "metadata": {
    "collapsed": true
   },
   "outputs": [],
   "source": []
  },
  {
   "cell_type": "code",
   "execution_count": null,
   "metadata": {
    "collapsed": true
   },
   "outputs": [],
   "source": []
  }
 ],
 "metadata": {
  "kernelspec": {
   "display_name": "Python 3",
   "language": "python",
   "name": "python3"
  },
  "language_info": {
   "codemirror_mode": {
    "name": "ipython",
    "version": 3
   },
   "file_extension": ".py",
   "mimetype": "text/x-python",
   "name": "python",
   "nbconvert_exporter": "python",
   "pygments_lexer": "ipython3",
   "version": "3.6.3"
  }
 },
 "nbformat": 4,
 "nbformat_minor": 2
}
