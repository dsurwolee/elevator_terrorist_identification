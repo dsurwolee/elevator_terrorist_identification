{
 "cells": [
  {
   "cell_type": "code",
   "execution_count": 1,
   "metadata": {},
   "outputs": [
    {
     "name": "stderr",
     "output_type": "stream",
     "text": [
      "Using TensorFlow backend.\n"
     ]
    }
   ],
   "source": [
    "import pandas as pd\n",
    "import numpy as np\n",
    "import pickle\n",
    "import matplotlib.pyplot as plt\n",
    "from scipy import stats\n",
    "import tensorflow as tf\n",
    "import seaborn as sns\n",
    "from pylab import rcParams\n",
    "from sklearn.model_selection import train_test_split\n",
    "from keras.models import Model, load_model\n",
    "from keras.layers import Input, Dense\n",
    "from keras.callbacks import ModelCheckpoint, TensorBoard\n",
    "from keras import regularizers"
   ]
  },
  {
   "cell_type": "code",
   "execution_count": 2,
   "metadata": {
    "collapsed": true
   },
   "outputs": [],
   "source": [
    "sns.set(style='whitegrid', palette='muted', font_scale=1.5)\n",
    "%matplotlib inline\n",
    "\n",
    "rcParams['figure.figsize'] = 14, 8\n",
    "\n",
    "RANDOM_SEED = 42\n",
    "LABELS = [\"Normal\", \"Terrorist\"]"
   ]
  },
  {
   "cell_type": "code",
   "execution_count": 3,
   "metadata": {
    "collapsed": true
   },
   "outputs": [],
   "source": [
    "df = pd.read_csv('/Users/daniellee/Dropbox/Data_Mining/elevator_terrorist_detection/simulation/simulated_elevator.csv')"
   ]
  },
  {
   "cell_type": "code",
   "execution_count": 4,
   "metadata": {
    "collapsed": true
   },
   "outputs": [],
   "source": [
    "df['event_id'] = df.index"
   ]
  },
  {
   "cell_type": "code",
   "execution_count": null,
   "metadata": {},
   "outputs": [],
   "source": [
    "df.timein.head()"
   ]
  },
  {
   "cell_type": "code",
   "execution_count": null,
   "metadata": {
    "collapsed": true
   },
   "outputs": [],
   "source": [
    "df.timeout.head()"
   ]
  },
  {
   "cell_type": "code",
   "execution_count": null,
   "metadata": {
    "collapsed": true
   },
   "outputs": [],
   "source": []
  },
  {
   "cell_type": "markdown",
   "metadata": {},
   "source": [
    "# Feature Engineering"
   ]
  },
  {
   "cell_type": "code",
   "execution_count": null,
   "metadata": {
    "collapsed": true
   },
   "outputs": [],
   "source": [
    "df['timein'], df['timeout'] = [pd.to_datetime(df[v]) for v in ['timein','timeout']]"
   ]
  },
  {
   "cell_type": "markdown",
   "metadata": {},
   "source": [
    "## Current Trip Features "
   ]
  },
  {
   "cell_type": "code",
   "execution_count": 165,
   "metadata": {
    "collapsed": true
   },
   "outputs": [],
   "source": [
    "# Time Variables\n",
    "df['womin'] = df.timein.dt.week # Week of Month\n",
    "df['dowin'] = df.timein.dt.dayofweek # Day of Week\n",
    "df['hourin'] = df.timein.dt.hour \n",
    "df['minin'] = df.timein.dt.minute\n",
    "\n",
    "df['womout'] = df.timeout.dt.week # Week of Month\n",
    "df['dowout'] = df.timeout.dt.dayofweek # Day of Week\n",
    "df['hourout'] = df.timeout.dt.hour \n",
    "df['minout'] = df.timeout.dt.minute\n",
    "\n",
    "# Binned Hours\n",
    "def bin_hours(x):\n",
    "    if 5 <= x <= 10: return 0  # Morning commute\n",
    "    if 11 <= x <= 14: return 1 # Lunch \n",
    "    if 15 <= x <= 16: return 2 # Rush hour commute\n",
    "    if 17 <= x <= 23: return 3 # Evening \n",
    "    if 24 <= x <= 4: return 4  # Midnight\n",
    "\n",
    "df['binned_hours_in'] = df.hourin.apply(lambda x: bin_hours(x))\n",
    "df['binned_hours_out'] = df.hourout.apply(lambda x: bin_hours(x))"
   ]
  },
  {
   "cell_type": "code",
   "execution_count": 192,
   "metadata": {
    "collapsed": true
   },
   "outputs": [],
   "source": [
    "# Number of people encountered during the trip\n",
    "\n",
    "for event_id, _in, _out in df[['event_id','timein','timeout']].values:\n",
    "    cond = (\n",
    "           ((df.timein <= _in) & (_out <= df.timeout)) | \n",
    "           ((_in <= df.timein) & (_out <= df.timeout)) | \n",
    "           ((df.timein <= _in) & (df.timeout <= _out)) | \n",
    "           ((_in <= df.timein) & (_out <= df.timeout)) \n",
    "    )\n",
    "    df.loc[df.event_id == event_id, 'passenger_encountered'] = df.loc[cond, 'id'].unique().shape[0] - 1"
   ]
  },
  {
   "cell_type": "markdown",
   "metadata": {},
   "source": [
    "## Passenger Day Features"
   ]
  },
  {
   "cell_type": "code",
   "execution_count": 143,
   "metadata": {
    "collapsed": true
   },
   "outputs": [],
   "source": [
    "# Number of trips made on a given day \n",
    "trips_per_day = df.groupby(['id','dow','wom']).count()"
   ]
  },
  {
   "cell_type": "code",
   "execution_count": 166,
   "metadata": {
    "collapsed": true
   },
   "outputs": [],
   "source": [
    "# Hours between first entered and exit\n",
    "diff = (df.binned_hours_out * 60 + df.minout - df.binned_hours_in * 60 + df.minin) / 60"
   ]
  },
  {
   "cell_type": "markdown",
   "metadata": {},
   "source": [
    "## Traffic Features"
   ]
  },
  {
   "cell_type": "code",
   "execution_count": 170,
   "metadata": {
    "collapsed": true
   },
   "outputs": [],
   "source": [
    "# Number of people who entered the building in a given day\n",
    "people_count = df.groupby(['dowin','womin'])['timein'].count()"
   ]
  },
  {
   "cell_type": "code",
   "execution_count": 179,
   "metadata": {
    "collapsed": true
   },
   "outputs": [],
   "source": [
    "# Number of people who entered the floor in a given day, binned hour comb\n",
    "def get_unique_id(x):\n",
    "    return x.id.unique().shape[0]\n",
    "\n",
    "people_count_dowin_combo = df.groupby(['dowin','womin','binned_hours_in']).apply(lambda x: get_unique_id(x))\n",
    "people_count_dowout_combo = df.groupby(['dowout','womin','binned_hours_in']).apply(lambda x: get_unique_id(x))"
   ]
  },
  {
   "cell_type": "markdown",
   "metadata": {},
   "source": [
    "## Lifetime Passenger Profile Features"
   ]
  },
  {
   "cell_type": "code",
   "execution_count": 40,
   "metadata": {
    "collapsed": true
   },
   "outputs": [],
   "source": [
    "# Number of trips\n",
    "number_of_trips = df.groupby('id').apply(lambda x: x.shape[0])"
   ]
  },
  {
   "cell_type": "code",
   "execution_count": 46,
   "metadata": {
    "collapsed": true
   },
   "outputs": [],
   "source": [
    "# Probability distribution of trips made per day of week\n",
    "dow_mass = pd.crosstab(df.id, df.dow, normalize='index')"
   ]
  },
  {
   "cell_type": "code",
   "execution_count": 67,
   "metadata": {
    "collapsed": true
   },
   "outputs": [],
   "source": [
    "# Probability mass function of binned hours when trips are made\n",
    "hour_mass = pd.crosstab(df.id, df.binned_hours, normalize='index')"
   ]
  },
  {
   "cell_type": "code",
   "execution_count": 55,
   "metadata": {
    "collapsed": true
   },
   "outputs": [],
   "source": [
    "# Probability distribution of floor_in and floor_out\n",
    "floorin_mass = pd.crosstab(df.id, df.floorin, normalize='index')\n",
    "floorout_mass = pd.crosstab(df.id, df.floorout, normalize='index')"
   ]
  },
  {
   "cell_type": "markdown",
   "metadata": {},
   "source": [
    "## Social Network Features"
   ]
  },
  {
   "cell_type": "code",
   "execution_count": 198,
   "metadata": {
    "collapsed": true
   },
   "outputs": [],
   "source": [
    "import networkx as nx"
   ]
  },
  {
   "cell_type": "code",
   "execution_count": 225,
   "metadata": {
    "collapsed": true
   },
   "outputs": [],
   "source": [
    "G = nx.Graph()\n",
    "\n",
    "network_set = {}\n",
    "for id, event_id, _in, _out in df[['id','event_id','timein','timeout']].values:\n",
    "    cond = (\n",
    "           ((df.timein <= _in) & (_out <= df.timeout)) | \n",
    "           ((_in <= df.timein) & (_out <= df.timeout)) | \n",
    "           ((df.timein <= _in) & (df.timeout <= _out)) | \n",
    "           ((_in <= df.timein) & (_out <= df.timeout)) \n",
    "    )\n",
    "    unique_id = set(df.loc[(df.id != id) & cond, 'id'].unique())\n",
    "    if id not in network_set:\n",
    "        network_set[id] = unique_id\n",
    "    else:\n",
    "        network_set[id] = network_set[id].union(set(unique_id))\n",
    "\n",
    "for k, s in network_set.items():\n",
    "    for v in list(s):\n",
    "        G.add_edge(k, v)"
   ]
  },
  {
   "cell_type": "code",
   "execution_count": 238,
   "metadata": {},
   "outputs": [
    {
     "data": {
      "text/plain": [
       "DegreeView({'A': 1, 'B': 1})"
      ]
     },
     "execution_count": 238,
     "metadata": {},
     "output_type": "execute_result"
    }
   ],
   "source": [
    "G.degree()"
   ]
  },
  {
   "cell_type": "code",
   "execution_count": 237,
   "metadata": {},
   "outputs": [
    {
     "data": {
      "text/plain": [
       "{'A': 1.0, 'B': 1.0}"
      ]
     },
     "execution_count": 237,
     "metadata": {},
     "output_type": "execute_result"
    }
   ],
   "source": [
    "nx.closeness_centrality(G)"
   ]
  },
  {
   "cell_type": "code",
   "execution_count": 231,
   "metadata": {},
   "outputs": [
    {
     "data": {
      "image/png": "[encoded data removed]",
      "text/plain": [
       "<matplotlib.figure.Figure at 0x1a2db0ea20>"
      ]
     },
     "metadata": {},
     "output_type": "display_data"
    }
   ],
   "source": [
    "nx.draw(G)"
   ]
  },
  {
   "cell_type": "markdown",
   "metadata": {},
   "source": [
    "## Behavioral Change Features"
   ]
  },
  {
   "cell_type": "code",
   "execution_count": 138,
   "metadata": {},
   "outputs": [
    {
     "data": {
      "text/html": [
       "<div>\n",
       "<style>\n",
       "    .dataframe thead tr:only-child th {\n",
       "        text-align: right;\n",
       "    }\n",
       "\n",
       "    .dataframe thead th {\n",
       "        text-align: left;\n",
       "    }\n",
       "\n",
       "    .dataframe tbody tr th {\n",
       "        vertical-align: top;\n",
       "    }\n",
       "</style>\n",
       "<table border=\"1\" class=\"dataframe\">\n",
       "  <thead>\n",
       "    <tr style=\"text-align: right;\">\n",
       "      <th></th>\n",
       "      <th>id</th>\n",
       "      <th>event_id</th>\n",
       "      <th>window_binned_hours</th>\n",
       "      <th>window_floorin</th>\n",
       "      <th>window_floorout</th>\n",
       "    </tr>\n",
       "  </thead>\n",
       "  <tbody>\n",
       "    <tr>\n",
       "      <th>0</th>\n",
       "      <td>A</td>\n",
       "      <td>0</td>\n",
       "      <td>1.0</td>\n",
       "      <td>5.0</td>\n",
       "      <td>6.0</td>\n",
       "    </tr>\n",
       "    <tr>\n",
       "      <th>1</th>\n",
       "      <td>A</td>\n",
       "      <td>1</td>\n",
       "      <td>1.0</td>\n",
       "      <td>7.0</td>\n",
       "      <td>6.0</td>\n",
       "    </tr>\n",
       "    <tr>\n",
       "      <th>2</th>\n",
       "      <td>A</td>\n",
       "      <td>2</td>\n",
       "      <td>1.0</td>\n",
       "      <td>7.0</td>\n",
       "      <td>5.0</td>\n",
       "    </tr>\n",
       "    <tr>\n",
       "      <th>3</th>\n",
       "      <td>B</td>\n",
       "      <td>3</td>\n",
       "      <td>1.0</td>\n",
       "      <td>1.0</td>\n",
       "      <td>5.0</td>\n",
       "    </tr>\n",
       "    <tr>\n",
       "      <th>4</th>\n",
       "      <td>B</td>\n",
       "      <td>4</td>\n",
       "      <td>1.0</td>\n",
       "      <td>6.0</td>\n",
       "      <td>5.0</td>\n",
       "    </tr>\n",
       "    <tr>\n",
       "      <th>5</th>\n",
       "      <td>A</td>\n",
       "      <td>5</td>\n",
       "      <td>1.0</td>\n",
       "      <td>4.0</td>\n",
       "      <td>5.0</td>\n",
       "    </tr>\n",
       "  </tbody>\n",
       "</table>\n",
       "</div>"
      ],
      "text/plain": [
       "  id  event_id  window_binned_hours  window_floorin  window_floorout\n",
       "0  A         0                  1.0             5.0              6.0\n",
       "1  A         1                  1.0             7.0              6.0\n",
       "2  A         2                  1.0             7.0              5.0\n",
       "3  B         3                  1.0             1.0              5.0\n",
       "4  B         4                  1.0             6.0              5.0\n",
       "5  A         5                  1.0             4.0              5.0"
      ]
     },
     "execution_count": 138,
     "metadata": {},
     "output_type": "execute_result"
    }
   ],
   "source": [
    "from scipy.stats import mode\n",
    "\n",
    "def last_k_features(x, k):\n",
    "    \n",
    "    x['offset'] = pd.DatetimeIndex(x['timeout']) - pd.DateOffset(k)\n",
    "    \n",
    "    for i in x.index:\n",
    "        offsetdate, curdate, eventid = x.loc[i,['offset','timeout','event_id']].values\n",
    "        \n",
    "        window_x = x.loc[(x.timein >= offsetdate) & (x.timeout <= curdate)]\n",
    "        window_binned_hours = window_x.binned_hours.value_counts().index[0]\n",
    "        window_floorin = window_x.floorin.value_counts().index[0]\n",
    "        window_floorout = window_x.floorout.value_counts().index[0]\n",
    "        \n",
    "        x.loc[x.event_id == eventid, 'window_binned_hours'] = window_binned_hours\n",
    "        x.loc[x.event_id == eventid, 'window_floorin'] = window_floorin\n",
    "        x.loc[x.event_id == eventid, 'window_floorout'] = window_floorout\n",
    "        \n",
    "    return x[['id','event_id','window_binned_hours','window_floorin','window_floorout']]\n",
    "            \n",
    "df.groupby('id').apply(lambda x: last_k_features(x, 2))"
   ]
  },
  {
   "cell_type": "code",
   "execution_count": 58,
   "metadata": {
    "collapsed": true
   },
   "outputs": [],
   "source": [
    "features = [v for v in data.columns if 'Floor' in v]\n",
    "passenger = data.groupby('Passenger ID')[features].apply(lambda x: x.sum() / x.shape[0])"
   ]
  },
  {
   "cell_type": "code",
   "execution_count": 59,
   "metadata": {
    "collapsed": true
   },
   "outputs": [],
   "source": [
    "# Probability distribution of time in and outs\n",
    "\n",
    "data['Time In '], data['Time Out'] = [pd.to_datetime(data[v]) for v in ['Time In ', 'Time Out']]\n",
    "\n",
    "for feat in ['Time In ','Time Out']:\n",
    "    data[feat + '_Hour'] = data[feat].dt.hour\n",
    "    data[feat + '_Minutes'] = data[feat].dt.minute"
   ]
  },
  {
   "cell_type": "code",
   "execution_count": 65,
   "metadata": {
    "collapsed": true
   },
   "outputs": [],
   "source": [
    "ts_features = [v for v in data.columns if 'Hour' in v or 'Minutes' in v]\n",
    "data = pd.concat([data.drop(['Time In ', 'Time Out'],axis=1),pd.get_dummies(data[ts_features].astype('str'))],axis=1)"
   ]
  },
  {
   "cell_type": "code",
   "execution_count": 61,
   "metadata": {
    "collapsed": true
   },
   "outputs": [],
   "source": [
    "ts_features = [v for v in data.columns if 'Hour' in v or 'Minutes' in v]"
   ]
  },
  {
   "cell_type": "code",
   "execution_count": 66,
   "metadata": {
    "collapsed": true
   },
   "outputs": [],
   "source": [
    "ts_grp_by = data.groupby('Passenger ID')[ts_features].apply(lambda x: x.sum() / x.shape[0])"
   ]
  },
  {
   "cell_type": "code",
   "execution_count": 70,
   "metadata": {
    "collapsed": true
   },
   "outputs": [],
   "source": [
    "# Feature Set \n",
    "X = pd.concat([passenger, ts_grp_by],axis=1)"
   ]
  },
  {
   "cell_type": "code",
   "execution_count": 74,
   "metadata": {
    "collapsed": true
   },
   "outputs": [],
   "source": [
    "# Model\n",
    "\n",
    "input_dim = X.shape[1]\n",
    "encoding_dim = 8\n",
    "input_layer = Input(shape=(input_dim, ))"
   ]
  },
  {
   "cell_type": "code",
   "execution_count": 75,
   "metadata": {
    "collapsed": true
   },
   "outputs": [],
   "source": [
    "encoder = Dense(encoding_dim, activation='tanh', activity_regularizer=regularizers.l1(10e-5))(input_layer)\n",
    "encoder = Dense(int(encoding_dim / 2), activation='relu')(encoder)\n",
    "decoder = Dense(int(encoding_dim / 2), activation='tanh')(encoder)\n",
    "decoder = Dense(input_dim, activation='relu')(decoder)"
   ]
  },
  {
   "cell_type": "code",
   "execution_count": 76,
   "metadata": {
    "collapsed": true
   },
   "outputs": [],
   "source": [
    "autoencoder = Model(inputs=input_layer, outputs=decoder)"
   ]
  },
  {
   "cell_type": "code",
   "execution_count": 78,
   "metadata": {},
   "outputs": [
    {
     "name": "stdout",
     "output_type": "stream",
     "text": [
      "Epoch 1/15\n",
      "2/2 [==============================] - 0s 28ms/step - loss: 45.8582 - acc: 0.0000e+00\n",
      "Epoch 2/15\n",
      "2/2 [==============================] - 0s 7ms/step - loss: 45.8287 - acc: 0.0000e+00\n",
      "Epoch 3/15\n",
      "2/2 [==============================] - 0s 7ms/step - loss: 45.7955 - acc: 0.0000e+00\n",
      "Epoch 4/15\n",
      "2/2 [==============================] - 0s 10ms/step - loss: 45.7624 - acc: 0.0000e+00\n",
      "Epoch 5/15\n",
      "2/2 [==============================] - 0s 11ms/step - loss: 45.7298 - acc: 0.0000e+00\n",
      "Epoch 6/15\n",
      "2/2 [==============================] - 0s 19ms/step - loss: 45.6973 - acc: 0.0000e+00\n"
     ]
    },
    {
     "name": "stderr",
     "output_type": "stream",
     "text": [
      "/Users/daniellee/anaconda3/lib/python3.6/site-packages/keras/callbacks.py:403: RuntimeWarning: Can save best model only with val_loss available, skipping.\n",
      "  'skipping.' % (self.monitor), RuntimeWarning)\n"
     ]
    },
    {
     "name": "stdout",
     "output_type": "stream",
     "text": [
      "Epoch 7/15\n",
      "2/2 [==============================] - ETA: 0s - loss: 53.6055 - acc: 0.0000e+ - 0s 25ms/step - loss: 45.6655 - acc: 0.0000e+00\n",
      "Epoch 8/15\n",
      "2/2 [==============================] - 0s 6ms/step - loss: 45.6339 - acc: 0.0000e+00\n",
      "Epoch 9/15\n",
      "2/2 [==============================] - 0s 19ms/step - loss: 45.6028 - acc: 0.0000e+00\n",
      "Epoch 10/15\n",
      "2/2 [==============================] - 0s 11ms/step - loss: 45.5722 - acc: 0.0000e+00\n",
      "Epoch 11/15\n",
      "2/2 [==============================] - 0s 9ms/step - loss: 45.5418 - acc: 0.0000e+00\n",
      "Epoch 12/15\n",
      "2/2 [==============================] - 0s 7ms/step - loss: 45.5118 - acc: 0.0000e+00\n",
      "Epoch 13/15\n",
      "2/2 [==============================] - 0s 6ms/step - loss: 45.4820 - acc: 0.0000e+00\n",
      "Epoch 14/15\n",
      "2/2 [==============================] - 0s 5ms/step - loss: 45.4525 - acc: 0.0000e+00\n",
      "Epoch 15/15\n",
      "2/2 [==============================] - 0s 6ms/step - loss: 45.4234 - acc: 0.0000e+00\n"
     ]
    }
   ],
   "source": [
    "nb_epoch = 15\n",
    "batch_size = 1\n",
    "\n",
    "autoencoder.compile(optimizer='adam', loss='mean_squared_error', metrics=['accuracy'])\n",
    "checkpointer = ModelCheckpoint(filepath='model.h5', verbose=0, save_best_only=True)\n",
    "tensorboard = TensorBoard(log_dir='./logs', histogram_freq=0, write_graph=True, write_images=True)\n",
    "history = (autoencoder.fit(X, X, \n",
    "                            epochs=nb_epoch,\n",
    "                            batch_size=batch_size, \n",
    "                            shuffle=True,\n",
    "#                            validation_data=(X_test, X_test),\n",
    "                            verbose=1,\n",
    "                            callbacks=[checkpointer, tensorboard]).history\n",
    "          )"
   ]
  },
  {
   "cell_type": "code",
   "execution_count": 83,
   "metadata": {},
   "outputs": [
    {
     "data": {
      "text/plain": [
       "<matplotlib.legend.Legend at 0x1c1a68eb38>"
      ]
     },
     "execution_count": 83,
     "metadata": {},
     "output_type": "execute_result"
    },
    {
     "data": {
      "image/png": "[encoded data removed]",
      "text/plain": [
       "<matplotlib.figure.Figure at 0x1c1a68e8d0>"
      ]
     },
     "metadata": {},
     "output_type": "display_data"
    }
   ],
   "source": [
    "plt.plot(history['loss'])\n",
    "# plt.plot(history['val_loss'])\n",
    "plt.title('model loss')\n",
    "plt.ylabel('loss')\n",
    "plt.legend(['train','test'], loc='upper right')"
   ]
  },
  {
   "cell_type": "code",
   "execution_count": 86,
   "metadata": {},
   "outputs": [
    {
     "data": {
      "text/html": [
       "<div>\n",
       "<style>\n",
       "    .dataframe thead tr:only-child th {\n",
       "        text-align: right;\n",
       "    }\n",
       "\n",
       "    .dataframe thead th {\n",
       "        text-align: left;\n",
       "    }\n",
       "\n",
       "    .dataframe tbody tr th {\n",
       "        vertical-align: top;\n",
       "    }\n",
       "</style>\n",
       "<table border=\"1\" class=\"dataframe\">\n",
       "  <thead>\n",
       "    <tr style=\"text-align: right;\">\n",
       "      <th></th>\n",
       "      <th>reconstruction_error</th>\n",
       "    </tr>\n",
       "    <tr>\n",
       "      <th>Passenger ID</th>\n",
       "      <th></th>\n",
       "    </tr>\n",
       "  </thead>\n",
       "  <tbody>\n",
       "    <tr>\n",
       "      <th>A</th>\n",
       "      <td>37.469623</td>\n",
       "    </tr>\n",
       "    <tr>\n",
       "      <th>B</th>\n",
       "      <td>53.332219</td>\n",
       "    </tr>\n",
       "  </tbody>\n",
       "</table>\n",
       "</div>"
      ],
      "text/plain": [
       "              reconstruction_error\n",
       "Passenger ID                      \n",
       "A                        37.469623\n",
       "B                        53.332219"
      ]
     },
     "execution_count": 86,
     "metadata": {},
     "output_type": "execute_result"
    }
   ],
   "source": [
    "predictions = autoencoder.predict(X)\n",
    "mse = np.mean(np.power(X - predictions, 2), axis=1)\n",
    "error_df = pd.DataFrame({'reconstruction_error': mse})\n",
    "error_df.head()"
   ]
  }
 ],
 "metadata": {
  "kernelspec": {
   "display_name": "Python 3",
   "language": "python",
   "name": "python3"
  },
  "language_info": {
   "codemirror_mode": {
    "name": "ipython",
    "version": 3
   },
   "file_extension": ".py",
   "mimetype": "text/x-python",
   "name": "python",
   "nbconvert_exporter": "python",
   "pygments_lexer": "ipython3",
   "version": "3.6.3"
  }
 },
 "nbformat": 4,
 "nbformat_minor": 2
}
